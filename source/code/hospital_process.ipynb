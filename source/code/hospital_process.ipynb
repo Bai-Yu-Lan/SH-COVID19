{
 "cells": [
  {
   "cell_type": "code",
   "execution_count": null,
   "metadata": {},
   "outputs": [],
   "source": [
    "from utils import *\n",
    "pandarallel.initialize(progress_bar=False,nb_workers=15)\n"
   ]
  },
  {
   "cell_type": "code",
   "execution_count": null,
   "metadata": {},
   "outputs": [],
   "source": [
    "raw_data_path = '../data/daily_info/hospital_info.txt'"
   ]
  },
  {
   "cell_type": "code",
   "execution_count": null,
   "metadata": {},
   "outputs": [],
   "source": [
    "def getName(line:str):\n",
    "    return re.findall('\\[(.+)\\](.+)', line)[0]\n",
    "\n",
    "def getAddress(line:str):\n",
    "    return re.findall('医院地址：(.+)', line)[0]\n",
    "\n",
    "def getOpened(line:str):\n",
    "    return re.findall('开诊科室：(.+)', line)[0]\n",
    "\n",
    "def getClosed(line:str):\n",
    "    return re.findall('停诊科室：(.+)', line)[0]\n",
    "\n",
    "def getOutpatient(line:str):\n",
    "    line = line.replace('，','')\n",
    "    return re.findall(\"门诊电话：([^急诊电话|总机]+)\", line)[0]\n",
    "    \n",
    "def getEmergency(line:str):\n",
    "    line = line.replace('，','')\n",
    "    return re.findall('急诊电话：([^总机]+)', line)[0]\n",
    "\n",
    "def getGeneral(line:str):\n",
    "    line = line.replace('，','')\n",
    "    return re.findall('总机：(.+)', line)[0]\n",
    "\n",
    "hospital_info = pd.DataFrame(columns=['district', 'hospital', 'address', 'closed', 'opening', 'outpatient', 'emergency','General'])\n",
    "with open(raw_data_path) as f:\n",
    "    CNT = -1\n",
    "    for line in f:\n",
    "        if re.match('\\[(.+)\\](.+)', line):\n",
    "            CNT+=1\n",
    "            hospital_info.loc[CNT, 'district'], hospital_info.loc[CNT, 'hospital'] = getName(line)\n",
    "        elif re.match('医院地址：(.+)', line):\n",
    "            hospital_info.loc[CNT, 'address'] = getAddress(line)\n",
    "        elif re.match('停诊科室：(.+)', line):\n",
    "            hospital_info.loc[CNT, 'closed'] = getClosed(line)\n",
    "        elif re.match('开诊科室：(.+)', line):\n",
    "            hospital_info.loc[CNT, 'opening'] = getOpened(line)\n",
    "            district, hospital, address, closed, opened = '','','','无',''\n",
    "\n",
    "        if re.match(\"门诊电话：([^急诊电话|总机]+)\", line):\n",
    "            hospital_info.loc[CNT, 'outpatient'] = getOutpatient(line) \n",
    "        if re.match('.*急诊电话：([^总机]+)', line):\n",
    "            hospital_info.loc[CNT, 'emergency'] = getEmergency(line) \n",
    "        if re.match('.*总机：(.+)', line):\n",
    "            hospital_info.loc[CNT, 'General'] = getGeneral(line) \n",
    "\n",
    "                \n",
    "\n"
   ]
  },
  {
   "cell_type": "code",
   "execution_count": null,
   "metadata": {},
   "outputs": [],
   "source": [
    "hospital_info[['lon', 'lat']] = hospital_info.parallel_apply(\n",
    "    lambda x: getGPS('上海市'+x['district']+x['hospital']), axis=1, result_type='expand')\n",
    "\n",
    "hospital_info[['lon_wgs', 'lat_wgs']] = hospital_info.parallel_apply(\n",
    "    lambda x: bd09_to_wgs84(x['lon'], x['lat']), axis=1, result_type='expand')\n"
   ]
  },
  {
   "cell_type": "code",
   "execution_count": null,
   "metadata": {},
   "outputs": [],
   "source": [
    "hospital_info = hospital_info.fillna('')\n",
    "hospital_info.head()"
   ]
  },
  {
   "cell_type": "code",
   "execution_count": null,
   "metadata": {},
   "outputs": [],
   "source": [
    "# 更新 estate_info_POI_category.json\n",
    "\n",
    "out_geojson_path = '../data/CaseInfo_April/hospital_info.json'\n",
    "\n",
    "features = []\n",
    "for row in hospital_info.itertuples():\n",
    "    address = getattr(row, \"address\")\n",
    "    lon = getattr(row, \"lon_wgs\")\n",
    "    lat = getattr(row, \"lat_wgs\")\n",
    "    name = getattr(row, \"hospital\")\n",
    "    district = getattr(row, \"district\")\n",
    "    closed =  getattr(row, \"closed\")\n",
    "    opening = getattr(row, \"opening\")\n",
    "    outpatient = getattr(row, \"outpatient\")\n",
    "    emergency = getattr(row, \"emergency\")\n",
    "    General = getattr(row, \"General\")\n",
    "\n",
    "\n",
    "\n",
    "    features.append({\n",
    "        \"type\": \"Feature\",\n",
    "        \"geometry\": {\n",
    "            \"type\": \"Point\",\n",
    "            \"coordinates\": [lon, lat]\n",
    "        },\n",
    "        \"properties\": {\n",
    "            '区县': district,\n",
    "            '医院': name,\n",
    "            '地址': address,\n",
    "            '停诊科室': closed,\n",
    "            '开诊科室': opening,\n",
    "            '门诊电话': outpatient,\n",
    "            '急诊电话': emergency,\n",
    "            '总机': General\n",
    "\n",
    "\n",
    "        }\n",
    "    })\n",
    "\n",
    "save_data = {\"type\": \"FeatureCollection\", \"features\": features}\n",
    "with open(out_geojson_path, \"w\", encoding='utf-8') as f:\n",
    "    f.write(json.dumps(save_data, ensure_ascii=False, indent=4, separators=(',', ':') ) )"
   ]
  },
  {
   "cell_type": "code",
   "execution_count": null,
   "metadata": {},
   "outputs": [],
   "source": []
  }
 ],
 "metadata": {
  "interpreter": {
   "hash": "31f2aee4e71d21fbe5cf8b01ff0e069b9275f58929596ceb00d14d90e3e16cd6"
  },
  "kernelspec": {
   "display_name": "Python 3.8.7 64-bit",
   "language": "python",
   "name": "python3"
  },
  "language_info": {
   "codemirror_mode": {
    "name": "ipython",
    "version": 3
   },
   "file_extension": ".py",
   "mimetype": "text/x-python",
   "name": "python",
   "nbconvert_exporter": "python",
   "pygments_lexer": "ipython3",
   "version": "3.8.10"
  },
  "orig_nbformat": 4
 },
 "nbformat": 4,
 "nbformat_minor": 2
}
