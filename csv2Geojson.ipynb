{
 "cells": [
  {
   "cell_type": "code",
   "execution_count": 1,
   "metadata": {},
   "outputs": [],
   "source": [
    "import csv, json\n",
    "import pandas as pd\n",
    "from geojson import Feature, FeatureCollection, Point\n",
    "\n",
    "from tqdm import tqdm"
   ]
  },
  {
   "cell_type": "markdown",
   "metadata": {},
   "source": [
    "# 百度地图数据"
   ]
  },
  {
   "cell_type": "code",
   "execution_count": 2,
   "metadata": {},
   "outputs": [],
   "source": [
    "read_csv_path = './source/data/CaseInfo_April/estate_info.csv'\n",
    "out_geojson_path = './source/data/CaseInfo_April/estate_info.json'"
   ]
  },
  {
   "cell_type": "code",
   "execution_count": 13,
   "metadata": {},
   "outputs": [
    {
     "data": {
      "text/html": [
       "<div>\n",
       "<style scoped>\n",
       "    .dataframe tbody tr th:only-of-type {\n",
       "        vertical-align: middle;\n",
       "    }\n",
       "\n",
       "    .dataframe tbody tr th {\n",
       "        vertical-align: top;\n",
       "    }\n",
       "\n",
       "    .dataframe thead th {\n",
       "        text-align: right;\n",
       "    }\n",
       "</style>\n",
       "<table border=\"1\" class=\"dataframe\">\n",
       "  <thead>\n",
       "    <tr style=\"text-align: right;\">\n",
       "      <th></th>\n",
       "      <th>address</th>\n",
       "      <th>lon</th>\n",
       "      <th>lat</th>\n",
       "      <th>name</th>\n",
       "      <th>city</th>\n",
       "      <th>district</th>\n",
       "      <th>town</th>\n",
       "      <th>encode</th>\n",
       "    </tr>\n",
       "  </thead>\n",
       "  <tbody>\n",
       "    <tr>\n",
       "      <th>0</th>\n",
       "      <td>嘉定区万镇路1177弄</td>\n",
       "      <td>121.385610</td>\n",
       "      <td>31.258798</td>\n",
       "      <td>万镇社区嘉德坊</td>\n",
       "      <td>上海市</td>\n",
       "      <td>嘉定区</td>\n",
       "      <td>真新街道</td>\n",
       "      <td>210601001</td>\n",
       "    </tr>\n",
       "    <tr>\n",
       "      <th>1</th>\n",
       "      <td>嘉定区三里村</td>\n",
       "      <td>121.206128</td>\n",
       "      <td>31.459293</td>\n",
       "      <td>俆行镇三里村</td>\n",
       "      <td>上海市</td>\n",
       "      <td>嘉定区</td>\n",
       "      <td>徐行镇</td>\n",
       "      <td>210602001</td>\n",
       "    </tr>\n",
       "    <tr>\n",
       "      <th>2</th>\n",
       "      <td>嘉定区世盛路777号</td>\n",
       "      <td>121.191578</td>\n",
       "      <td>31.407024</td>\n",
       "      <td>上海五丰上食食品有限公司</td>\n",
       "      <td>上海市</td>\n",
       "      <td>嘉定区</td>\n",
       "      <td>徐行镇</td>\n",
       "      <td>210602002</td>\n",
       "    </tr>\n",
       "  </tbody>\n",
       "</table>\n",
       "</div>"
      ],
      "text/plain": [
       "       address         lon        lat          name city district  town  \\\n",
       "0  嘉定区万镇路1177弄  121.385610  31.258798       万镇社区嘉德坊  上海市      嘉定区  真新街道   \n",
       "1       嘉定区三里村  121.206128  31.459293        俆行镇三里村  上海市      嘉定区   徐行镇   \n",
       "2   嘉定区世盛路777号  121.191578  31.407024  上海五丰上食食品有限公司  上海市      嘉定区   徐行镇   \n",
       "\n",
       "      encode  \n",
       "0  210601001  \n",
       "1  210602001  \n",
       "2  210602002  "
      ]
     },
     "execution_count": 13,
     "metadata": {},
     "output_type": "execute_result"
    }
   ],
   "source": [
    "df = pd.read_csv(read_csv_path)\n",
    "df.head(3)"
   ]
  },
  {
   "cell_type": "code",
   "execution_count": 4,
   "metadata": {},
   "outputs": [
    {
     "data": {
      "text/plain": [
       "(31.25, 121.385)"
      ]
     },
     "execution_count": 4,
     "metadata": {},
     "output_type": "execute_result"
    }
   ],
   "source": [
    "latitude = 31.25\n",
    "longitude = 121.385\n",
    "latitude, longitude = map(float, (latitude, longitude))\n",
    "latitude, longitude "
   ]
  },
  {
   "cell_type": "code",
   "execution_count": 19,
   "metadata": {},
   "outputs": [],
   "source": [
    "features = []\n",
    "for row in df.itertuples():\n",
    "    address = getattr(row, \"address\")\n",
    "    lon = getattr(row, \"lon\")\n",
    "    lat = getattr(row, \"lat\")\n",
    "    name = getattr(row, \"name\")\n",
    "    city = getattr(row, \"city\")\n",
    "    district = getattr(row, \"district\")\n",
    "    town = getattr(row, \"town\")\n",
    "    encode = getattr(row, \"encode\")\n",
    "    \n",
    "    features.append({\n",
    "        \"type\": \"Feature\",\n",
    "        \"geometry\":{\n",
    "            \"type\":\"Point\",\n",
    "            \"coordinates\":[lon, lat]\n",
    "        },\n",
    "        \"properties\":{\n",
    "            'address': address,\n",
    "            'name':name,\n",
    "            'encode':encode,\n",
    "            'city':city,\n",
    "            'district':district,\n",
    "            'town':town\n",
    "            \n",
    "        }\n",
    "    })\n",
    "\n",
    "save_data = {\"type\": \"FeatureCollection\", \"features\":features}"
   ]
  },
  {
   "cell_type": "code",
   "execution_count": 20,
   "metadata": {},
   "outputs": [
    {
     "data": {
      "text/plain": [
       "list"
      ]
     },
     "execution_count": 20,
     "metadata": {},
     "output_type": "execute_result"
    }
   ],
   "source": [
    "type(features)"
   ]
  },
  {
   "cell_type": "code",
   "execution_count": 21,
   "metadata": {},
   "outputs": [],
   "source": [
    "import json\n",
    "with open(out_geojson_path, \"w\", encoding='utf-8') as f:\n",
    "    f.write(json.dumps(save_data, ensure_ascii=False, indent=4, separators=(',', ':') ) )"
   ]
  },
  {
   "cell_type": "markdown",
   "metadata": {},
   "source": [
    "# 高德转WGS84"
   ]
  },
  {
   "cell_type": "code",
   "execution_count": 3,
   "metadata": {},
   "outputs": [],
   "source": [
    "read_csv_path = './source/data/CaseInfo_April/estate_info_GD.csv'\n",
    "out_geojson_path = './source/data/CaseInfo_April/estate_info_GD.json'"
   ]
  },
  {
   "cell_type": "code",
   "execution_count": 4,
   "metadata": {},
   "outputs": [
    {
     "data": {
      "text/html": [
       "<div>\n",
       "<style scoped>\n",
       "    .dataframe tbody tr th:only-of-type {\n",
       "        vertical-align: middle;\n",
       "    }\n",
       "\n",
       "    .dataframe tbody tr th {\n",
       "        vertical-align: top;\n",
       "    }\n",
       "\n",
       "    .dataframe thead th {\n",
       "        text-align: right;\n",
       "    }\n",
       "</style>\n",
       "<table border=\"1\" class=\"dataframe\">\n",
       "  <thead>\n",
       "    <tr style=\"text-align: right;\">\n",
       "      <th></th>\n",
       "      <th>address</th>\n",
       "      <th>lon</th>\n",
       "      <th>lat</th>\n",
       "      <th>name</th>\n",
       "      <th>city</th>\n",
       "      <th>district</th>\n",
       "      <th>town</th>\n",
       "      <th>encode</th>\n",
       "    </tr>\n",
       "  </thead>\n",
       "  <tbody>\n",
       "    <tr>\n",
       "      <th>0</th>\n",
       "      <td>嘉定区万镇路1177弄</td>\n",
       "      <td>121.378126</td>\n",
       "      <td>31.253413</td>\n",
       "      <td>真新新村嘉德坊</td>\n",
       "      <td>上海市</td>\n",
       "      <td>嘉定区</td>\n",
       "      <td>真新街道</td>\n",
       "      <td>210601001</td>\n",
       "    </tr>\n",
       "    <tr>\n",
       "      <th>1</th>\n",
       "      <td>嘉定区三里村</td>\n",
       "      <td>121.199999</td>\n",
       "      <td>31.452898</td>\n",
       "      <td>嘉定工业区三里村</td>\n",
       "      <td>上海市</td>\n",
       "      <td>嘉定区</td>\n",
       "      <td>徐行镇</td>\n",
       "      <td>210602001</td>\n",
       "    </tr>\n",
       "    <tr>\n",
       "      <th>2</th>\n",
       "      <td>嘉定区世盛路777号</td>\n",
       "      <td>121.185014</td>\n",
       "      <td>31.400883</td>\n",
       "      <td>上海五丰上食食品有限公司</td>\n",
       "      <td>上海市</td>\n",
       "      <td>嘉定区</td>\n",
       "      <td>徐行镇</td>\n",
       "      <td>210602002</td>\n",
       "    </tr>\n",
       "  </tbody>\n",
       "</table>\n",
       "</div>"
      ],
      "text/plain": [
       "       address         lon        lat          name city district  town  \\\n",
       "0  嘉定区万镇路1177弄  121.378126  31.253413       真新新村嘉德坊  上海市      嘉定区  真新街道   \n",
       "1       嘉定区三里村  121.199999  31.452898      嘉定工业区三里村  上海市      嘉定区   徐行镇   \n",
       "2   嘉定区世盛路777号  121.185014  31.400883  上海五丰上食食品有限公司  上海市      嘉定区   徐行镇   \n",
       "\n",
       "      encode  \n",
       "0  210601001  \n",
       "1  210602001  \n",
       "2  210602002  "
      ]
     },
     "execution_count": 4,
     "metadata": {},
     "output_type": "execute_result"
    }
   ],
   "source": [
    "df = pd.read_csv(read_csv_path)\n",
    "df.head(3)"
   ]
  },
  {
   "cell_type": "code",
   "execution_count": 5,
   "metadata": {},
   "outputs": [],
   "source": [
    "from source.data.gcj02towgs84 import *"
   ]
  },
  {
   "cell_type": "code",
   "execution_count": 6,
   "metadata": {},
   "outputs": [
    {
     "data": {
      "text/plain": [
       "[121.37348669654547, 31.255250041309957]"
      ]
     },
     "execution_count": 6,
     "metadata": {},
     "output_type": "execute_result"
    }
   ],
   "source": [
    "lon = 121.378126\n",
    "lat = 31.253413\n",
    "\n",
    "gcj02towgs84(lon, lat)"
   ]
  },
  {
   "cell_type": "code",
   "execution_count": 7,
   "metadata": {},
   "outputs": [],
   "source": [
    "features = []\n",
    "for row in df.itertuples():\n",
    "    address = getattr(row, \"address\")\n",
    "    temp_lon = getattr(row, \"lon\")\n",
    "    temp_lat = getattr(row, \"lat\")\n",
    "    name = getattr(row, \"name\")\n",
    "    city = getattr(row, \"city\")\n",
    "    district = getattr(row, \"district\")\n",
    "    town = getattr(row, \"town\")\n",
    "    encode = getattr(row, \"encode\")\n",
    "    \n",
    "    lon, lat = gcj02towgs84(temp_lon, temp_lat) # TODO GCJ2WSG\n",
    "    \n",
    "    features.append({\n",
    "        \"type\": \"Feature\",\n",
    "        \"geometry\":{\n",
    "            \"type\":\"Point\",\n",
    "            \"coordinates\":[lon, lat]\n",
    "        },\n",
    "        \"properties\":{\n",
    "            'address': address,\n",
    "            'name':name,\n",
    "            'encode':encode,\n",
    "            'city':city,\n",
    "            'district':district,\n",
    "            'town':town\n",
    "            \n",
    "        }\n",
    "    })\n",
    "\n",
    "save_data = {\"type\": \"FeatureCollection\", \"features\":features}"
   ]
  },
  {
   "cell_type": "code",
   "execution_count": 8,
   "metadata": {},
   "outputs": [],
   "source": [
    "import json\n",
    "with open(out_geojson_path, \"w\", encoding='utf-8') as f:\n",
    "    f.write(json.dumps(save_data, ensure_ascii=False, indent=4, separators=(',', ':') ) )"
   ]
  },
  {
   "cell_type": "code",
   "execution_count": null,
   "metadata": {},
   "outputs": [],
   "source": []
  }
 ],
 "metadata": {
  "kernelspec": {
   "display_name": "Python 3",
   "language": "python",
   "name": "python3"
  },
  "language_info": {
   "codemirror_mode": {
    "name": "ipython",
    "version": 3
   },
   "file_extension": ".py",
   "mimetype": "text/x-python",
   "name": "python",
   "nbconvert_exporter": "python",
   "pygments_lexer": "ipython3",
   "version": "3.7.7"
  },
  "toc": {
   "base_numbering": 1,
   "nav_menu": {},
   "number_sections": true,
   "sideBar": true,
   "skip_h1_title": false,
   "title_cell": "Table of Contents",
   "title_sidebar": "Contents",
   "toc_cell": false,
   "toc_position": {},
   "toc_section_display": true,
   "toc_window_display": false
  }
 },
 "nbformat": 4,
 "nbformat_minor": 4
}
